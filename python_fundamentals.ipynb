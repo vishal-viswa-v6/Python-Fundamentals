{
 "cells": [
  {
   "cell_type": "markdown",
   "id": "f53f14d6-5e9d-4317-990d-ef426f87fd23",
   "metadata": {},
   "source": [
    "# Python Fundamentals, Vishal Viswa"
   ]
  },
  {
   "cell_type": "markdown",
   "id": "e443fdda-5ec1-498b-8d50-d6f349c63b8b",
   "metadata": {},
   "source": [
    "### A simple Python script to calculate the area of a circle given its radius."
   ]
  },
  {
   "cell_type": "code",
   "execution_count": 12,
   "id": "1e70fad9-139c-466f-af9c-f6751977c361",
   "metadata": {},
   "outputs": [
    {
     "name": "stdin",
     "output_type": "stream",
     "text": [
      "Enter Radius:  0.92\n"
     ]
    },
    {
     "name": "stdout",
     "output_type": "stream",
     "text": [
      "Area:  2.659044021998401\n"
     ]
    }
   ],
   "source": [
    "import math \n",
    "\n",
    "try:\n",
    "    radius = float(input(\"Enter Radius: \"))\n",
    "    area = math.pi * (radius ** 2)\n",
    "    \n",
    "    if radius < 0:\n",
    "        print(\"Error\")\n",
    "    else:\n",
    "        print(\"Area: \", area)\n",
    "\n",
    "except ValueError:\n",
    "    print(\"Error\")"
   ]
  },
  {
   "cell_type": "markdown",
   "id": "43cd8882-74a5-469c-9895-0003843940ce",
   "metadata": {},
   "source": [
    "### A program that takes a number as input and prints whether it's even or odd."
   ]
  },
  {
   "cell_type": "code",
   "execution_count": 1,
   "id": "98151f5b-4ffe-4e10-aea8-92f89dab151d",
   "metadata": {},
   "outputs": [
    {
     "name": "stdin",
     "output_type": "stream",
     "text": [
      "Enter a number:  122\n"
     ]
    },
    {
     "name": "stdout",
     "output_type": "stream",
     "text": [
      "122.0 is even\n"
     ]
    }
   ],
   "source": [
    "try:\n",
    "    num = float(input(\"Enter a number: \"))\n",
    "    if num % 2 == 0:\n",
    "        print(f\"{num} is even\")\n",
    "    else:\n",
    "        print(f\"{num} is odd\")\n",
    "\n",
    "except ValueError:\n",
    "    print(\"Error\")\n",
    "                "
   ]
  },
  {
   "cell_type": "markdown",
   "id": "475e0ebf-ab9b-4295-ad10-66d2edda6b90",
   "metadata": {},
   "source": [
    "### A script that simulates a simple vending machine"
   ]
  },
  {
   "cell_type": "code",
   "execution_count": 8,
   "id": "6aabd022-a600-4738-ab90-eec34feb9a3c",
   "metadata": {},
   "outputs": [
    {
     "name": "stdout",
     "output_type": "stream",
     "text": [
      "1: Soda: $1.99\n",
      "2: Cookie: $3.99\n",
      "3: Energy Drink: $5.99\n"
     ]
    },
    {
     "name": "stdin",
     "output_type": "stream",
     "text": [
      "Select Item Number:  3\n",
      "Enter Cash:  10\n"
     ]
    },
    {
     "name": "stdout",
     "output_type": "stream",
     "text": [
      "Purchased Energy Drink | Change:$4.01\n"
     ]
    }
   ],
   "source": [
    "items = {\"1\":(\"Soda\", 1.99), \"2\":(\"Cookie\", 3.99), \"3\":(\"Energy Drink\", 5.99)}\n",
    "\n",
    "for key,(name, price) in items.items():\n",
    "    print(f\"{key}: {name}: ${price}\")\n",
    "\n",
    "select_item = input(\"Select Item Number: \")\n",
    "enter_cash = float(input(\"Enter Cash: \"))\n",
    "\n",
    "if select_item in items:\n",
    "    name, price = items[select_item]\n",
    "    if enter_cash >= price:\n",
    "        print(f\"Purchased {name} | Change:${enter_cash - price}\")\n",
    "    else:\n",
    "        print(\"Insufficent Funds\")\n",
    "\n",
    "else:\n",
    "    print(\"Invalid Entry\")\n",
    "    "
   ]
  }
 ],
 "metadata": {
  "kernelspec": {
   "display_name": "Python 3 (ipykernel)",
   "language": "python",
   "name": "python3"
  },
  "language_info": {
   "codemirror_mode": {
    "name": "ipython",
    "version": 3
   },
   "file_extension": ".py",
   "mimetype": "text/x-python",
   "name": "python",
   "nbconvert_exporter": "python",
   "pygments_lexer": "ipython3",
   "version": "3.12.7"
  }
 },
 "nbformat": 4,
 "nbformat_minor": 5
}
